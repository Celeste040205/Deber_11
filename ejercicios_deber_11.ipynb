{
 "cells": [
  {
   "cell_type": "markdown",
   "id": "94e36217",
   "metadata": {},
   "source": [
    "Ejercicios deber 11"
   ]
  },
  {
   "cell_type": "code",
   "execution_count": null,
   "id": "c0e6c2e9",
   "metadata": {},
   "outputs": [],
   "source": []
  }
 ],
 "metadata": {
  "language_info": {
   "name": "python"
  }
 },
 "nbformat": 4,
 "nbformat_minor": 5
}
