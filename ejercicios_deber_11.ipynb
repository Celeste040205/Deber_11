{
 "cells": [
  {
   "cell_type": "markdown",
   "id": "94e36217",
   "metadata": {},
   "source": [
    "Ejercicios deber 11"
   ]
  },
  {
   "cell_type": "code",
   "execution_count": 1,
   "id": "c0e6c2e9",
   "metadata": {},
   "outputs": [],
   "source": [
    "import numpy as np\n",
    "\n",
    "def is_strictly_diagonally_dominant(A):\n",
    "    for i in range(len(A)):\n",
    "        diag = abs(A[i][i])\n",
    "        off_diag_sum = sum(abs(A[i][j]) for j in range(len(A)) if j != i)\n",
    "        if diag <= off_diag_sum:\n",
    "            return False\n",
    "    return True\n",
    "\n",
    "def print_solution(iteration, x):\n",
    "    print(f\"Iteración {iteration}: {x}\")"
   ]
  },
  {
   "cell_type": "code",
   "execution_count": 2,
   "id": "e2557219",
   "metadata": {},
   "outputs": [],
   "source": [
    "def jacobi(A, b, x0=None, tol=1e-3, max_iter=100):\n",
    "    n = len(A)\n",
    "    x = np.zeros_like(b) if x0 is None else x0.copy()\n",
    "    x_new = x.copy()\n",
    "\n",
    "    for k in range(max_iter):\n",
    "        for i in range(n):\n",
    "            s = sum(A[i][j] * x[j] for j in range(n) if j != i)\n",
    "            x_new[i] = (b[i] - s) / A[i][i]\n",
    "        \n",
    "        print_solution(k+1, x_new)\n",
    "        if np.linalg.norm(x_new - x, ord=np.inf) < tol:\n",
    "            break\n",
    "        x = x_new.copy()\n",
    "    \n",
    "    return x\n"
   ]
  },
  {
   "cell_type": "code",
   "execution_count": 3,
   "id": "42d1f2b2",
   "metadata": {},
   "outputs": [],
   "source": [
    "def gauss_seidel(A, b, x0=None, tol=1e-3, max_iter=100):\n",
    "    n = len(A)\n",
    "    x = np.zeros_like(b) if x0 is None else x0.copy()\n",
    "\n",
    "    for k in range(max_iter):\n",
    "        x_old = x.copy()\n",
    "        for i in range(n):\n",
    "            s1 = sum(A[i][j] * x[j] for j in range(i))\n",
    "            s2 = sum(A[i][j] * x_old[j] for j in range(i+1, n))\n",
    "            x[i] = (b[i] - s1 - s2) / A[i][i]\n",
    "\n",
    "        print_solution(k+1, x)\n",
    "        if np.linalg.norm(x - x_old, ord=np.inf) < tol:\n",
    "            break\n",
    "    \n",
    "    return x\n"
   ]
  },
  {
   "cell_type": "code",
   "execution_count": 4,
   "id": "4274a706",
   "metadata": {},
   "outputs": [
    {
     "name": "stdout",
     "output_type": "stream",
     "text": [
      "Jacobi (2 iteraciones):\n",
      "Iteración 1: [1.75  2.625 3.   ]\n",
      "Iteración 2: [1.65625 3.875   3.175  ]\n",
      "\n",
      "Gauss-Seidel (2 iteraciones):\n",
      "Iteración 1: [1.75 3.5  3.  ]\n",
      "Iteración 2: [1.875  3.9375 2.9625]\n"
     ]
    },
    {
     "data": {
      "text/plain": [
       "array([1.875 , 3.9375, 2.9625])"
      ]
     },
     "execution_count": 4,
     "metadata": {},
     "output_type": "execute_result"
    }
   ],
   "source": [
    "A = np.array([[4, -1, 1],\n",
    "              [4, -8, 1],\n",
    "              [-2, 1, 5]], dtype=float)\n",
    "b = np.array([7, -21, 15], dtype=float)\n",
    "x0 = np.zeros_like(b)\n",
    "\n",
    "print(\"Jacobi (2 iteraciones):\")\n",
    "jacobi(A, b, x0, max_iter=2)\n",
    "\n",
    "print(\"\\nGauss-Seidel (2 iteraciones):\")\n",
    "gauss_seidel(A, b, x0, max_iter=2)\n"
   ]
  },
  {
   "cell_type": "code",
   "execution_count": 5,
   "id": "cf91889b",
   "metadata": {},
   "outputs": [
    {
     "name": "stdout",
     "output_type": "stream",
     "text": [
      "Jacobi con TOL = 1e-3:\n",
      "Iteración 1: [1.75  2.625 3.   ]\n",
      "Iteración 2: [1.65625 3.875   3.175  ]\n",
      "Iteración 3: [1.925  3.85   2.8875]\n",
      "Iteración 4: [1.990625  3.9484375 3.       ]\n",
      "Iteración 5: [1.98710937 3.9953125  3.0065625 ]\n",
      "Iteración 6: [1.9971875  3.994375   2.99578125]\n",
      "Iteración 7: [1.99964844 3.99806641 3.        ]\n",
      "Iteración 8: [1.9995166  3.99982422 3.00024609]\n",
      "Iteración 9: [1.99989453 3.99978906 2.9998418 ]\n",
      "\n",
      "Gauss-Seidel con TOL = 1e-3:\n",
      "Iteración 1: [1.75 3.5  3.  ]\n",
      "Iteración 2: [1.875  3.9375 2.9625]\n",
      "Iteración 3: [1.99375   3.9921875 2.9990625]\n",
      "Iteración 4: [1.99828125 3.99902344 2.99950781]\n",
      "Iteración 5: [1.99987891 3.99987793 2.99997598]\n",
      "Iteración 6: [1.99997549 3.99998474 2.99999325]\n"
     ]
    }
   ],
   "source": [
    "print(\"Jacobi con TOL = 1e-3:\")\n",
    "x_jacobi = jacobi(A, b, tol=1e-3)\n",
    "\n",
    "print(\"\\nGauss-Seidel con TOL = 1e-3:\")\n",
    "x_seidel = gauss_seidel(A, b, tol=1e-3)\n"
   ]
  },
  {
   "cell_type": "code",
   "execution_count": 6,
   "id": "60469dd0",
   "metadata": {},
   "outputs": [
    {
     "name": "stdout",
     "output_type": "stream",
     "text": [
      "Jacobi (25 iteraciones):\n",
      "Iteración 1: [ 0.6         2.27272727 -1.1       ]\n",
      "Iteración 2: [ 1.04727273  2.22727273 -0.99272727]\n",
      "Iteración 3: [ 1.02127273  2.27768595 -1.08672727]\n",
      "Iteración 4: [ 1.04511405  2.26677686 -1.07648595]\n",
      "Iteración 5: [ 1.04197488  2.26987528 -1.08234512]\n",
      "Iteración 6: [ 1.04345655  2.26905725 -1.08140745]\n",
      "Iteración 7: [ 1.04318721  2.26927719 -1.08178559]\n",
      "Iteración 8: [ 1.04328484  2.26921833 -1.08170972]\n",
      "Iteración 9: [ 1.04326378  2.2692341  -1.08173513]\n",
      "Iteración 10: [ 1.04327044  2.26922988 -1.08172935]\n",
      "Iteración 11: [ 1.04326886  2.26923101 -1.0817311 ]\n",
      "Iteración 12: [ 1.04326932  2.26923071 -1.08173067]\n",
      "Iteración 13: [ 1.0432692   2.26923079 -1.08173079]\n",
      "Iteración 14: [ 1.04326924  2.26923076 -1.08173076]\n",
      "Iteración 15: [ 1.04326923  2.26923077 -1.08173077]\n",
      "Iteración 16: [ 1.04326923  2.26923077 -1.08173077]\n",
      "Iteración 17: [ 1.04326923  2.26923077 -1.08173077]\n",
      "Iteración 18: [ 1.04326923  2.26923077 -1.08173077]\n",
      "Iteración 19: [ 1.04326923  2.26923077 -1.08173077]\n",
      "\n",
      "Diferencia con solución real: 0.26923076920710587\n",
      "\n",
      "Gauss-Seidel con TOL = 1e-5:\n",
      "Iteración 1: [ 0.6         2.32727273 -0.98727273]\n",
      "Iteración 2: [ 1.03018182  2.2766281  -1.07837355]\n",
      "Iteración 3: [ 1.04333752  2.26954218 -1.08171329]\n",
      "Iteración 4: [ 1.04329688  2.26923487 -1.08173589]\n",
      "Iteración 5: [ 1.04327066  2.26923043 -1.08173109]\n",
      "Iteración 6: [ 1.04326926  2.26923074 -1.08173078]\n",
      "\n",
      "Diferencia con solución real: 0.2692307428916769\n"
     ]
    }
   ],
   "source": [
    "A5 = np.array([[10, -1, 2],\n",
    "               [-1, 11, -1],\n",
    "               [2, -1, 10]], dtype=float)\n",
    "b5 = np.array([6, 25, -11], dtype=float)\n",
    "x_real = np.array([1, 2, -1], dtype=float)\n",
    "\n",
    "print(\"Jacobi (25 iteraciones):\")\n",
    "x_jacobi_25 = jacobi(A5, b5, tol=1e-10, max_iter=25)\n",
    "print(\"\\nDiferencia con solución real:\", np.linalg.norm(x_jacobi_25 - x_real, np.inf))\n",
    "\n",
    "print(\"\\nGauss-Seidel con TOL = 1e-5:\")\n",
    "x_gs = gauss_seidel(A5, b5, tol=1e-5)\n",
    "print(\"\\nDiferencia con solución real:\", np.linalg.norm(x_gs - x_real, np.inf))\n"
   ]
  },
  {
   "cell_type": "code",
   "execution_count": 7,
   "id": "2e4770ae",
   "metadata": {},
   "outputs": [
    {
     "name": "stdout",
     "output_type": "stream",
     "text": [
      "¿Es diagonalmente dominante? True\n",
      "Iteración 1: [1.25   0.955  0.7495]\n",
      "Iteración 2: [1.07955   0.897095  0.7723355]\n",
      "Iteración 3: [1.08305695 0.89446076 0.77224823]\n",
      "Iteración 4: [1.0833291  0.89444227 0.77222286]\n",
      "Iteración 5: [1.08333349 0.89444436 0.77222221]\n",
      "Iteración 6: [1.08333334 0.89444444 0.77222222]\n",
      "Iteración 7: [1.08333333 0.89444444 0.77222222]\n",
      "Iteración 8: [1.08333333 0.89444444 0.77222222]\n",
      "Iteración 9: [1.08333333 0.89444444 0.77222222]\n",
      "Iteración 10: [1.08333333 0.89444444 0.77222222]\n",
      "Iteración 11: [1.08333333 0.89444444 0.77222222]\n",
      "Iteración 12: [1.08333333 0.89444444 0.77222222]\n",
      "\n",
      "Probando sistema no dominante:\n",
      "Iteración 1: [1 0 0]\n",
      "Iteración 2: [1 0 0]\n"
     ]
    }
   ],
   "source": [
    "A6 = np.array([[10, 1, 1],\n",
    "               [1, 10, 1],\n",
    "               [1, 1, 10]], dtype=float)\n",
    "b6 = np.array([12.5, 10.8, 9.7])\n",
    "\n",
    "print(\"¿Es diagonalmente dominante?\", is_strictly_diagonally_dominant(A6))\n",
    "\n",
    "x_gs_6 = gauss_seidel(A6, b6, tol=1e-22, max_iter=300)\n",
    "\n",
    "# Cambiar a sistema no dominante\n",
    "A6_bad = np.array([[1, 2, 3],\n",
    "                   [4, 5, 6],\n",
    "                   [7, 8, 9]], dtype=float)\n",
    "b6_bad = np.array([1, 2, 3])\n",
    "\n",
    "print(\"\\nProbando sistema no dominante:\")\n",
    "x_bad = gauss_seidel(A6_bad, b6_bad, tol=1e-5, max_iter=10)\n"
   ]
  },
  {
   "cell_type": "code",
   "execution_count": 8,
   "id": "e4851e11",
   "metadata": {},
   "outputs": [
    {
     "name": "stdout",
     "output_type": "stream",
     "text": [
      "Ejercicio 7 - Jacobi sobre sistema del ejercicio 6:\n",
      "Iteración 1: [1.25 1.08 0.97]\n",
      "Iteración 2: [1.045 0.858 0.737]\n",
      "Iteración 3: [1.0905 0.9018 0.7797]\n",
      "Iteración 4: [1.08185 0.89298 0.77077]\n",
      "Iteración 5: [1.083625 0.894738 0.772517]\n",
      "Iteración 6: [1.0832745 0.8943858 0.7721637]\n",
      "Iteración 7: [1.08334505 0.89445618 0.77223397]\n",
      "Iteración 8: [1.08333098 0.8944421  0.77221988]\n",
      "Iteración 9: [1.0833338  0.89444491 0.77222269]\n",
      "Iteración 10: [1.08333324 0.89444435 0.77222213]\n",
      "Iteración 11: [1.08333335 0.89444446 0.77222224]\n",
      "Iteración 12: [1.08333333 0.89444444 0.77222222]\n",
      "Iteración 13: [1.08333333 0.89444445 0.77222222]\n",
      "Iteración 14: [1.08333333 0.89444444 0.77222222]\n",
      "Iteración 15: [1.08333333 0.89444444 0.77222222]\n",
      "Iteración 16: [1.08333333 0.89444444 0.77222222]\n"
     ]
    }
   ],
   "source": [
    "print(\"Ejercicio 7 - Jacobi sobre sistema del ejercicio 6:\")\n",
    "x_jacobi_6 = jacobi(A6, b6, tol=1e-10, max_iter=100)\n"
   ]
  },
  {
   "cell_type": "code",
   "execution_count": 9,
   "id": "46f3ef97",
   "metadata": {},
   "outputs": [
    {
     "name": "stdout",
     "output_type": "stream",
     "text": [
      "¿Es diagonalmente dominante? True\n",
      "\n",
      "Jacobi con TOL = 1e-2:\n",
      "Iteración 1: [27.5  0.   0.   0. ]\n",
      "Iteración 2: [27.5    6.875  6.875  0.   ]\n",
      "Iteración 3: [30.9375  6.875   6.875   3.4375]\n",
      "Iteración 4: [30.9375   8.59375  8.59375  3.4375 ]\n",
      "Iteración 5: [31.796875  8.59375   8.59375   4.296875]\n",
      "Iteración 6: [31.796875   9.0234375  9.0234375  4.296875 ]\n",
      "Iteración 7: [32.01171875  9.0234375   9.0234375   4.51171875]\n",
      "Iteración 8: [32.01171875  9.13085938  9.13085938  4.51171875]\n",
      "Iteración 9: [32.06542969  9.13085938  9.13085938  4.56542969]\n",
      "Iteración 10: [32.06542969  9.15771484  9.15771484  4.56542969]\n",
      "Iteración 11: [32.07885742  9.15771484  9.15771484  4.57885742]\n",
      "Iteración 12: [32.07885742  9.16442871  9.16442871  4.57885742]\n",
      "\n",
      "Gauss-Seidel con TOL = 1e-2:\n",
      "Iteración 1: [27.5     6.875   6.875   3.4375]\n",
      "Iteración 2: [30.9375    8.59375   8.59375   4.296875]\n",
      "Iteración 3: [31.796875    9.0234375   9.0234375   4.51171875]\n",
      "Iteración 4: [32.01171875  9.13085938  9.13085938  4.56542969]\n",
      "Iteración 5: [32.06542969  9.15771484  9.15771484  4.57885742]\n",
      "Iteración 6: [32.07885742  9.16442871  9.16442871  4.58221436]\n",
      "Iteración 7: [32.08221436  9.16610718  9.16610718  4.58305359]\n"
     ]
    },
    {
     "data": {
      "text/plain": [
       "array([32.08221436,  9.16610718,  9.16610718,  4.58305359])"
      ]
     },
     "execution_count": 9,
     "metadata": {},
     "output_type": "execute_result"
    }
   ],
   "source": [
    "A8 = np.array([[4, -1, -1, 0],\n",
    "               [-1, 4, 0, -1],\n",
    "               [-1, 0, 4, -1],\n",
    "               [0, -1, -1, 4]], dtype=float)\n",
    "b8 = np.array([110, 0, 0, 0], dtype=float)\n",
    "\n",
    "print(\"¿Es diagonalmente dominante?\", is_strictly_diagonally_dominant(A8))\n",
    "\n",
    "print(\"\\nJacobi con TOL = 1e-2:\")\n",
    "jacobi(A8, b8, tol=1e-2)\n",
    "\n",
    "print(\"\\nGauss-Seidel con TOL = 1e-2:\")\n",
    "gauss_seidel(A8, b8, tol=1e-2)\n"
   ]
  },
  {
   "cell_type": "code",
   "execution_count": null,
   "id": "03f3c657",
   "metadata": {},
   "outputs": [],
   "source": []
  }
 ],
 "metadata": {
  "kernelspec": {
   "display_name": "Python 3",
   "language": "python",
   "name": "python3"
  },
  "language_info": {
   "codemirror_mode": {
    "name": "ipython",
    "version": 3
   },
   "file_extension": ".py",
   "mimetype": "text/x-python",
   "name": "python",
   "nbconvert_exporter": "python",
   "pygments_lexer": "ipython3",
   "version": "3.11.9"
  }
 },
 "nbformat": 4,
 "nbformat_minor": 5
}
